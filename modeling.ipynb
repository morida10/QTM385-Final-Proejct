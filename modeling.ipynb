{
 "cells": [
  {
   "cell_type": "code",
   "execution_count": 642,
   "metadata": {},
   "outputs": [],
   "source": [
    "import pandas as pd\n",
    "from sklearn.model_selection import train_test_split\n",
    "import numpy as np\n",
    "from sklearn.linear_model import LogisticRegression\n",
    "from sklearn.model_selection import StratifiedKFold\n",
    "from sklearn.metrics import f1_score\n",
    "from sklearn.metrics import roc_auc_score\n",
    "from sklearn.metrics import average_precision_score\n",
    "from sklearn.ensemble import RandomForestClassifier\n",
    "from sklearn.neighbors import KNeighborsClassifier\n",
    "import torch\n",
    "import torch.nn as nn \n",
    "import torch.optim as opt\n",
    "from math import sqrt\n",
    "from torch.utils.data import DataLoader, TensorDataset, random_split\n",
    "import matplotlib.pyplot as plt\n",
    "from torchmetrics import F1Score, AUROC, AveragePrecision, Accuracy\n"
   ]
  },
  {
   "cell_type": "code",
   "execution_count": 643,
   "metadata": {},
   "outputs": [],
   "source": [
    "df=pd.read_csv(\"./processed_df.csv\")\n",
    "df=df.drop(columns=[\"Unnamed: 0\"])"
   ]
  },
  {
   "cell_type": "markdown",
   "metadata": {},
   "source": [
    "First we need to split our dataset into a train,validation, and test set. We will make the splits 70/15/15"
   ]
  },
  {
   "cell_type": "code",
   "execution_count": 644,
   "metadata": {},
   "outputs": [],
   "source": [
    "X = df.drop(columns=[\"accepted\"])\n",
    "y = df[\"accepted\"]\n",
    "X_train, X_temp, y_train, y_temp = train_test_split(X, y, test_size=0.3, random_state=42)\n",
    "X_val, X_test, y_val, y_test = train_test_split(X_temp, y_temp, test_size=0.5, random_state=42)"
   ]
  },
  {
   "cell_type": "markdown",
   "metadata": {},
   "source": [
    "Min/Max scale using min/max from our training set to avoid data leakage."
   ]
  },
  {
   "cell_type": "code",
   "execution_count": 645,
   "metadata": {},
   "outputs": [],
   "source": [
    "min,max=np.min(X_train,axis=0),np.max(X_train,axis=0)\n",
    "X_train,X_val,X_test=((X_train-min)/(max-min)).values,((X_val-min)/(max-min)).values,(((X_test-min)/(max-min)).values)\n",
    "y_train,y_val,y_test=y_train.values,y_val.values,y_test.values"
   ]
  },
  {
   "cell_type": "markdown",
   "metadata": {},
   "source": [
    "Hyperparameter tuning for logistic regression and then we keep track of useful metrics "
   ]
  },
  {
   "cell_type": "code",
   "execution_count": 199,
   "metadata": {},
   "outputs": [],
   "source": [
    "C_values =[10**i for i in range(-3,5)]\n",
    "\n",
    "best_C = None\n",
    "best_f1 = 0\n",
    "results = []\n",
    "\n",
    "skf = StratifiedKFold(n_splits=5, shuffle=True, random_state=42)\n",
    "for C in C_values:\n",
    "    f1_scores = []\n",
    "    for train_index, test_index in skf.split(X_train, y_train):\n",
    "        X_train_fold, X_test_fold = X_train[train_index], X_train[test_index]\n",
    "        y_train_fold, y_test_fold = y_train[train_index], y_train[test_index]\n",
    "        model = LogisticRegression(C=C, class_weight='balanced', random_state=42)\n",
    "        model.fit(X_train_fold, y_train_fold)\n",
    "        y_pred_fold = model.predict(X_test_fold)\n",
    "        f1 = f1_score(y_test_fold, y_pred_fold)\n",
    "        f1_scores.append(f1)\n",
    "    avg_f1 = np.mean(f1_scores)\n",
    "    results.append((C, avg_f1))\n",
    "    if avg_f1 > best_f1:\n",
    "        best_f1 = avg_f1\n",
    "        best_C = C\n"
   ]
  },
  {
   "cell_type": "code",
   "execution_count": 200,
   "metadata": {},
   "outputs": [],
   "source": [
    "log_reg_metrics_dict={}\n",
    "final_model=LogisticRegression(C=best_C,class_weight=\"balanced\",random_state=42)\n",
    "final_model.fit(np.concatenate([X_train,X_val],axis=0),np.concatenate([y_train,y_val],axis=0))\n",
    "probs=final_model.predict_proba(X_test)[:,1]\n",
    "pred_labels=final_model.predict(X_test)\n",
    "log_reg_metrics_dict[\"accuracy\"]=np.mean(pred_labels==y_test)\n",
    "log_reg_metrics_dict[\"f1_score\"]=f1_score(y_test,pred_labels)\n",
    "log_reg_metrics_dict[\"auc\"]=roc_auc_score(y_test,probs)\n",
    "log_reg_metrics_dict[\"pr-auc\"]=average_precision_score(y_test,probs)\n",
    "log_reg_metrics_dict[\"baseline_pos\"]=y_test.mean()\n"
   ]
  },
  {
   "cell_type": "markdown",
   "metadata": {},
   "source": [
    "We will now train a Tree Based Classifier(Random Forest) with our hyper-params to be the number of trees, max-depth and max-features to split on."
   ]
  },
  {
   "cell_type": "code",
   "execution_count": 460,
   "metadata": {},
   "outputs": [
    {
     "data": {
      "text/plain": [
       "{'accuracy': 0.7256830601092896,\n",
       " 'f1_score': 0.4176334106728538,\n",
       " 'auc': 0.814980614732803,\n",
       " 'pr-auc': 0.3546443625157215,\n",
       " 'baseline_pos': 0.13879781420765028}"
      ]
     },
     "execution_count": 460,
     "metadata": {},
     "output_type": "execute_result"
    }
   ],
   "source": [
    "log_reg_metrics_dict"
   ]
  },
  {
   "cell_type": "code",
   "execution_count": 201,
   "metadata": {},
   "outputs": [
    {
     "data": {
      "text/plain": [
       "({'max_features': 'sqrt',\n",
       "  'max_depth': 10,\n",
       "  'n_estimators': 100,\n",
       "  'criterion': 'entropy',\n",
       "  'class_weight': 'balanced'},\n",
       " 0.5168303838561632)"
      ]
     },
     "execution_count": 201,
     "metadata": {},
     "output_type": "execute_result"
    }
   ],
   "source": [
    "hyperparameter_grid = {\n",
    "    'max_features': ['sqrt', 'log2', None],\n",
    "    'max_depth': [None, 10, 20, 30],\n",
    "    'n_estimators': [50, 100, 200],\n",
    "    'criterion': ['entropy'],\n",
    "    'class_weight': ['balanced', 'balanced_subsample']\n",
    "}\n",
    "best_params = {}\n",
    "best_f1 = 0\n",
    "results = []\n",
    "skf = StratifiedKFold(n_splits=5, shuffle=True, random_state=42)\n",
    "for max_features in hyperparameter_grid['max_features']:\n",
    "    for max_depth in hyperparameter_grid['max_depth']:\n",
    "        for n_estimators in hyperparameter_grid['n_estimators']:\n",
    "            for criterion in hyperparameter_grid['criterion']:\n",
    "                for class_weight in hyperparameter_grid['class_weight']:\n",
    "                    f1_scores = []\n",
    "                    for train_index, test_index in skf.split(X_train, y_train):\n",
    "                        X_train_fold, X_test_fold = X_train[train_index], X_train[test_index]\n",
    "                        y_train_fold, y_test_fold = y_train[train_index], y_train[test_index]\n",
    "                        model = RandomForestClassifier(\n",
    "                            max_features=max_features,\n",
    "                            max_depth=max_depth,\n",
    "                            n_estimators=n_estimators,\n",
    "                            criterion=criterion,\n",
    "                            class_weight=class_weight,\n",
    "                            random_state=42\n",
    "                        )\n",
    "                        model.fit(X_train_fold, y_train_fold)\n",
    "                        y_pred_fold = model.predict(X_test_fold)\n",
    "                        f1 = f1_score(y_test_fold, y_pred_fold)\n",
    "                        f1_scores.append(f1)\n",
    "                    avg_f1 = np.mean(f1_scores)\n",
    "                    results.append({\n",
    "                        'max_features': max_features,\n",
    "                        'max_depth': max_depth,\n",
    "                        'n_estimators': n_estimators,\n",
    "                        'criterion': criterion,\n",
    "                        'class_weight': class_weight,\n",
    "                        'f1_score': avg_f1\n",
    "                    })\n",
    "                    if avg_f1 > best_f1:\n",
    "                        best_f1 = avg_f1\n",
    "                        best_params = {\n",
    "                            'max_features': max_features,\n",
    "                            'max_depth': max_depth,\n",
    "                            'n_estimators': n_estimators,\n",
    "                            'criterion': criterion,\n",
    "                            'class_weight': class_weight\n",
    "                        }\n",
    "best_params, best_f1\n",
    "\n"
   ]
  },
  {
   "cell_type": "code",
   "execution_count": 202,
   "metadata": {},
   "outputs": [],
   "source": [
    "random_forest_metrics_dict={}\n",
    "final_model=RandomForestClassifier(**best_params,random_state=42)\n",
    "final_model.fit(np.concatenate([X_train,X_val],axis=0),np.concatenate([y_train,y_val],axis=0))\n",
    "probs=final_model.predict_proba(X_test)[:,1]\n",
    "pred_labels=final_model.predict(X_test)\n",
    "random_forest_metrics_dict[\"accuracy\"]=np.mean(pred_labels==y_test)\n",
    "random_forest_metrics_dict[\"f1_score\"]=f1_score(y_test,pred_labels)\n",
    "random_forest_metrics_dict[\"auc\"]=roc_auc_score(y_test,probs)\n",
    "random_forest_metrics_dict[\"pr-auc\"]=average_precision_score(y_test,probs)\n",
    "random_forest_metrics_dict[\"baseline_pos\"]=y_test.mean()"
   ]
  },
  {
   "cell_type": "code",
   "execution_count": 322,
   "metadata": {},
   "outputs": [
    {
     "data": {
      "text/plain": [
       "{'accuracy': 0.7617486338797814,\n",
       " 'f1_score': 0.47596153846153844,\n",
       " 'auc': 0.8493894640073544,\n",
       " 'pr-auc': 0.3987473753488263,\n",
       " 'baseline_pos': 0.13879781420765028}"
      ]
     },
     "execution_count": 322,
     "metadata": {},
     "output_type": "execute_result"
    }
   ],
   "source": [
    "random_forest_metrics_dict"
   ]
  },
  {
   "cell_type": "markdown",
   "metadata": {},
   "source": [
    "Our final non-deep learning model will be KNN classifier. We test this because we might think that there when determining if a person might get accepted/rejected it is natural to look at how those who have a similiar profile to the person did to inform their own success."
   ]
  },
  {
   "cell_type": "code",
   "execution_count": 203,
   "metadata": {},
   "outputs": [
    {
     "data": {
      "text/plain": [
       "({'n_neighbors': 4, 'weights': 'distance'}, 0.25632740854001257)"
      ]
     },
     "execution_count": 203,
     "metadata": {},
     "output_type": "execute_result"
    }
   ],
   "source": [
    "hyperparameter_grid = {\n",
    "    'n_neighbors': np.arange(3,15),\n",
    "    'weights': ['uniform', 'distance']\n",
    "}\n",
    "best_params = {}\n",
    "best_f1 = 0\n",
    "results = []\n",
    "\n",
    "skf = StratifiedKFold(n_splits=5, shuffle=True, random_state=42)\n",
    "\n",
    "for n_neighbors in hyperparameter_grid['n_neighbors']:\n",
    "    for weights in hyperparameter_grid['weights']:\n",
    "        f1_scores = []\n",
    "        for train_index, test_index in skf.split(X_train, y_train):\n",
    "            X_train_fold, X_test_fold = X_train[train_index], X_train[test_index]\n",
    "            y_train_fold, y_test_fold = y_train[train_index], y_train[test_index]\n",
    "            model = KNeighborsClassifier(n_neighbors=n_neighbors, weights=weights)\n",
    "            model.fit(X_train_fold, y_train_fold)\n",
    "            y_pred_fold = model.predict(X_test_fold)\n",
    "            f1 = f1_score(y_test_fold, y_pred_fold)\n",
    "            f1_scores.append(f1)\n",
    "        avg_f1 = np.mean(f1_scores)\n",
    "        results.append({\n",
    "            'n_neighbors': n_neighbors,\n",
    "            'weights': weights,\n",
    "            'f1_score': avg_f1\n",
    "        })\n",
    "\n",
    "        if avg_f1 > best_f1:\n",
    "            best_f1 = avg_f1\n",
    "            best_params = {\n",
    "                'n_neighbors': n_neighbors,\n",
    "                'weights': weights\n",
    "            }\n",
    "\n",
    "best_params, best_f1"
   ]
  },
  {
   "cell_type": "code",
   "execution_count": 204,
   "metadata": {},
   "outputs": [],
   "source": [
    "knn_metrics_dict={}\n",
    "final_model=KNeighborsClassifier(**best_params)\n",
    "final_model.fit(np.concatenate([X_train,X_val],axis=0),np.concatenate([y_train,y_val],axis=0))\n",
    "probs=final_model.predict_proba(X_test)[:,1]\n",
    "pred_labels=final_model.predict(X_test)\n",
    "knn_metrics_dict[\"accuracy\"]=np.mean(pred_labels==y_test)\n",
    "knn_metrics_dict[\"f1_score\"]=f1_score(y_test,pred_labels)\n",
    "knn_metrics_dict[\"auc\"]=roc_auc_score(y_test,probs)\n",
    "knn_metrics_dict[\"pr-auc\"]=average_precision_score(y_test,probs)\n",
    "knn_metrics_dict[\"baseline_pos\"]=y_test.mean()"
   ]
  },
  {
   "cell_type": "markdown",
   "metadata": {},
   "source": [
    "Now, we will train a simple Neural Network classifier with torch."
   ]
  },
  {
   "cell_type": "markdown",
   "metadata": {},
   "source": [
    "# Define our network using typical batchnorm and dropout."
   ]
  },
  {
   "cell_type": "code",
   "execution_count": 646,
   "metadata": {},
   "outputs": [],
   "source": [
    "class Classifier(nn.Module):\n",
    "    def __init__(self):\n",
    "        super().__init__()\n",
    "        self.fc1 = nn.Sequential(\n",
    "            nn.Linear(27, 32),\n",
    "            nn.BatchNorm1d(32),\n",
    "            nn.ELU(alpha=1.0), \n",
    "        )\n",
    "        self.fc2 = nn.Sequential(\n",
    "            nn.Linear(32, 32),\n",
    "            nn.BatchNorm1d(32),\n",
    "            nn.ELU(alpha=1.0), \n",
    "        )\n",
    "        self.fc3 = nn.Sequential(\n",
    "            nn.Linear(32, 64),\n",
    "            nn.BatchNorm1d(64),\n",
    "            nn.ELU(alpha=1.0), \n",
    "        )\n",
    "        self.fc4 = nn.Linear(64, 1)\n",
    "    \n",
    "    def forward(self, x):\n",
    "        x = self.fc1(x)\n",
    "        x = self.fc2(x)\n",
    "        x = self.fc3(x)\n",
    "        return self.fc4(x)"
   ]
  },
  {
   "cell_type": "markdown",
   "metadata": {},
   "source": [
    "# Set up our datasets/loaders "
   ]
  },
  {
   "cell_type": "code",
   "execution_count": 647,
   "metadata": {},
   "outputs": [],
   "source": [
    "X_train = torch.tensor(X_train, dtype=torch.float32)  \n",
    "y_train = torch.tensor(y_train, dtype=torch.float32)    \n",
    "X_val = torch.tensor(X_val, dtype=torch.float32)\n",
    "y_val = torch.tensor(y_val, dtype=torch.float32)\n",
    "X_test = torch.tensor(X_test, dtype=torch.float32)\n",
    "y_test = torch.tensor(y_test, dtype=torch.float32)\n",
    "\n",
    "train_dataset = TensorDataset(X_train, y_train)\n",
    "val_dataset = TensorDataset(X_val, y_val)\n",
    "test_dataset = TensorDataset(X_test, y_test)\n",
    "batch_size = 256\n",
    "\n",
    "train_loader = DataLoader(train_dataset, batch_size=batch_size, shuffle=True)\n",
    "val_loader = DataLoader(val_dataset, batch_size=batch_size, shuffle=False)\n",
    "test_loader = DataLoader(test_dataset, batch_size=batch_size, shuffle=False)\n",
    "\n",
    "\n"
   ]
  },
  {
   "cell_type": "markdown",
   "metadata": {},
   "source": [
    "# Set up weighted loss function(optimization problem) and optimizer(Adam) and model"
   ]
  },
  {
   "cell_type": "code",
   "execution_count": 648,
   "metadata": {},
   "outputs": [],
   "source": [
    "model=Classifier()\n",
    "loss_fn=nn.BCEWithLogitsLoss(pos_weight=(len(y_train)-y_train.sum())/y_train.sum())   # Using pytorch docs pos_weight=num_negative/num_pos\n",
    "optimizer = torch.optim.Adam(model.parameters(), lr=5e-4)\n"
   ]
  },
  {
   "cell_type": "code",
   "execution_count": 649,
   "metadata": {},
   "outputs": [],
   "source": [
    "def _train_epoch(data_loader, model, criterion, optimizer):\n",
    "    \"\"\"\n",
    "    Train the `model` for one epoch of data from `data_loader`\n",
    "    Use `optimizer` to optimize the specified `criterion`\n",
    "    \"\"\"\n",
    "    for i, (X, y) in enumerate(data_loader):\n",
    "        # clear parameter gradients\n",
    "        model.train()\n",
    "        optimizer.zero_grad()\n",
    "        y=y.reshape(-1,1)\n",
    "\n",
    "        # forward + backward + optimize\n",
    "        output = model(X)\n",
    "        loss = criterion(output, y)\n",
    "        loss.backward()\n",
    "        optimizer.step()\n",
    "        \n",
    "def _evaluate_epoch(tr_loader, val_loader, model, criterion):\n",
    "    \"\"\"\n",
    "    Evaluates the `model` on the train and validation set.\n",
    "    \"\"\"\n",
    "    model.eval()\n",
    "    y_true, y_pred = [], []\n",
    "    correct, total = 0, 0\n",
    "    running_loss = []\n",
    "    for X, y in tr_loader:\n",
    "        with torch.no_grad():\n",
    "            y=y.reshape(-1,1)\n",
    "            output = model(X)\n",
    "            predicted = (output>=0.0).long()\n",
    "            y_true.append(y)\n",
    "            y_pred.append(predicted)\n",
    "            total += y.size(0)\n",
    "            correct += (predicted == y).sum().item()\n",
    "            running_loss.append(criterion(output, y).item())\n",
    "    train_loss = np.mean(running_loss)\n",
    "    train_acc = correct / total\n",
    "    y_true, y_pred = [], []\n",
    "    correct, total = 0, 0\n",
    "    running_loss = []\n",
    "    for X, y in val_loader:\n",
    "        with torch.no_grad():\n",
    "            y=y.reshape(-1,1)\n",
    "            output = model(X)\n",
    "            predicted = (output>=0.0).long()\n",
    "            y_true.append(y)\n",
    "            y_pred.append(predicted)\n",
    "            total += y.size(0)\n",
    "            correct += (predicted == y).sum().item()\n",
    "            running_loss.append(criterion(output, y).item())\n",
    "    val_loss = np.mean(running_loss)\n",
    "    val_acc = correct / total\n",
    "    return ([val_acc, val_loss, train_acc, train_loss])"
   ]
  },
  {
   "cell_type": "markdown",
   "metadata": {},
   "source": [
    "# Let's train the model now!"
   ]
  },
  {
   "cell_type": "code",
   "execution_count": 650,
   "metadata": {},
   "outputs": [],
   "source": [
    "results_dict={\"val_acc\":[],\"val_loss\":[],\"train_acc\":[],\"train_loss\":[]}\n",
    "for epoch in range(50):\n",
    "    _train_epoch(train_loader, model, loss_fn, optimizer)\n",
    "    val_acc, val_loss, train_acc, train_loss=_evaluate_epoch(train_loader, val_loader, model, loss_fn)\n",
    "    results_dict[\"val_acc\"].append(val_acc)\n",
    "    results_dict[\"val_loss\"].append(val_loss)\n",
    "    results_dict[\"train_acc\"].append(train_acc)\n",
    "    results_dict[\"train_loss\"].append(train_loss)\n"
   ]
  },
  {
   "cell_type": "code",
   "execution_count": 651,
   "metadata": {},
   "outputs": [
    {
     "data": {
      "image/png": "[encoded data removed]",
      "text/plain": [
       "<Figure size 640x480 with 1 Axes>"
      ]
     },
     "metadata": {},
     "output_type": "display_data"
    },
    {
     "data": {
      "text/plain": [
       "[<matplotlib.lines.Line2D at 0x2fbbf8470>]"
      ]
     },
     "execution_count": 651,
     "metadata": {},
     "output_type": "execute_result"
    },
    {
     "data": {
      "image/png": "[encoded data removed]",
      "text/plain": [
       "<Figure size 640x480 with 1 Axes>"
      ]
     },
     "metadata": {},
     "output_type": "display_data"
    }
   ],
   "source": [
    "plt.plot(results_dict[\"val_loss\"])\n",
    "plt.plot(results_dict[\"train_loss\"])\n",
    "plt.show()\n",
    "plt.plot(results_dict[\"val_acc\"])\n",
    "plt.plot(results_dict[\"train_acc\"])"
   ]
  },
  {
   "cell_type": "code",
   "execution_count": 652,
   "metadata": {},
   "outputs": [],
   "source": [
    "f1 = F1Score(task='binary')\n",
    "auroc = AUROC(task='binary')\n",
    "prauc = AveragePrecision(task='binary')\n",
    "accuracy = Accuracy(task='binary')\n",
    "\n",
    "with torch.no_grad():\n",
    "    model.eval()\n",
    "    outputs = model(X_test)\n",
    "    probs = torch.sigmoid(outputs)\n",
    "    preds = (outputs >= 0).long()\n",
    "    y_test_int = y_test.long()\n",
    "    \n",
    "    f1_score = f1(preds.reshape(-1), y_test_int)\n",
    "    auc_score = auroc(probs.reshape(-1), y_test_int)\n",
    "    prauc_score = prauc(probs.reshape(-1), y_test_int)\n",
    "    acc_score = accuracy(preds.reshape(-1), y_test_int)\n",
    "\n",
    "metrics_dict = {\n",
    "    \"accuracy\": acc_score.item(),\n",
    "    \"f1_score\": f1_score.item(),\n",
    "    \"auc\": auc_score.item(),\n",
    "    \"pr-auc\": prauc_score.item()\n",
    "}"
   ]
  },
  {
   "cell_type": "code",
   "execution_count": 653,
   "metadata": {},
   "outputs": [
    {
     "data": {
      "text/plain": [
       "{'accuracy': 0.7256830601092896,\n",
       " 'f1_score': 0.4176334106728538,\n",
       " 'auc': 0.814980614732803,\n",
       " 'pr-auc': 0.3546443625157215,\n",
       " 'baseline_pos': 0.13879781420765028}"
      ]
     },
     "execution_count": 653,
     "metadata": {},
     "output_type": "execute_result"
    }
   ],
   "source": [
    "log_reg_metrics_dict"
   ]
  },
  {
   "cell_type": "code",
   "execution_count": 654,
   "metadata": {},
   "outputs": [
    {
     "data": {
      "text/plain": [
       "{'accuracy': 0.7278688549995422,\n",
       " 'f1_score': 0.4429530203342438,\n",
       " 'auc': 0.7944262027740479,\n",
       " 'pr-auc': 0.3444882035255432}"
      ]
     },
     "execution_count": 654,
     "metadata": {},
     "output_type": "execute_result"
    }
   ],
   "source": [
    "metrics_dict"
   ]
  }
 ],
 "metadata": {
  "kernelspec": {
   "display_name": "torch",
   "language": "python",
   "name": "python3"
  },
  "language_info": {
   "codemirror_mode": {
    "name": "ipython",
    "version": 3
   },
   "file_extension": ".py",
   "mimetype": "text/x-python",
   "name": "python",
   "nbconvert_exporter": "python",
   "pygments_lexer": "ipython3",
   "version": "3.12.3"
  }
 },
 "nbformat": 4,
 "nbformat_minor": 2
}
