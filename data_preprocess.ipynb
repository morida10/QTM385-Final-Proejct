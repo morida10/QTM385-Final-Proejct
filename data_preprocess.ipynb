{
 "cells": [
  {
   "cell_type": "code",
   "execution_count": 166,
   "metadata": {},
   "outputs": [],
   "source": [
    "import pandas as pd\n",
    "import numpy as np\n",
    "import matplotlib.pyplot as plt"
   ]
  },
  {
   "cell_type": "code",
   "execution_count": 167,
   "metadata": {},
   "outputs": [],
   "source": [
    "df=pd.read_csv(\"/Users/morischacter/Documents/qtm385fp/MBA 2.csv\")"
   ]
  },
  {
   "cell_type": "code",
   "execution_count": 168,
   "metadata": {},
   "outputs": [],
   "source": [
    "# Numerically encode boolean variables\n",
    "df=df[~(df[\"admission\"]==\"Waitlist\")] # Ignore those who were waitlisted\n",
    "df[\"admission\"]=df[\"admission\"].fillna(\"rejected\")# Replace Nan values with rejected\n",
    "df[\"is_male\"]=(df[\"gender\"]==\"Male\").astype(int)\n",
    "df[\"is_international\"]=(df[\"international\"]==True).astype(int)\n",
    "df[\"accepted\"]=(df[\"admission\"]==\"Admit\").astype(int)\n",
    "df[\"race\"]=df[\"race\"].fillna(\"Other\")\n",
    "df.drop(columns=[\"gender\",\"international\",\"admission\",\"application_id\"],inplace=True)\n"
   ]
  },
  {
   "cell_type": "code",
   "execution_count": 169,
   "metadata": {},
   "outputs": [],
   "source": [
    "#One hot encode Major column-[Business,STEM,Humanities] as well as for race and work_industry columns and turn all columns into float\n",
    "df=pd.concat([df,pd.get_dummies(df[\"major\"],dtype=float,prefix=\"major\")],axis=1)\n",
    "df.drop(columns=[\"major\"],inplace=True)\n",
    "df=pd.concat([df,pd.get_dummies(df[\"race\"],dtype=float)],axis=1)\n",
    "df.drop(columns=[\"race\"],inplace=True)\n",
    "df=pd.concat([df,pd.get_dummies(df[\"work_industry\"],dtype=float,prefix=\"Industry\")],axis=1)\n",
    "df.drop(columns=[\"work_industry\"],inplace=True)\n",
    "\n",
    "df=df.astype(float)"
   ]
  },
  {
   "cell_type": "code",
   "execution_count": 174,
   "metadata": {},
   "outputs": [],
   "source": [
    "df.to_csv(\"./processed_df.csv\")"
   ]
  }
 ],
 "metadata": {
  "kernelspec": {
   "display_name": "econ320",
   "language": "python",
   "name": "python3"
  },
  "language_info": {
   "codemirror_mode": {
    "name": "ipython",
    "version": 3
   },
   "file_extension": ".py",
   "mimetype": "text/x-python",
   "name": "python",
   "nbconvert_exporter": "python",
   "pygments_lexer": "ipython3",
   "version": "3.12.3"
  }
 },
 "nbformat": 4,
 "nbformat_minor": 2
}
